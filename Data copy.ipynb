{
 "cells": [
  {
   "cell_type": "code",
   "execution_count": 4,
   "metadata": {},
   "outputs": [],
   "source": [
    "import json\n",
    "import pandas as pd"
   ]
  },
  {
   "cell_type": "code",
   "execution_count": 5,
   "metadata": {},
   "outputs": [],
   "source": [
    "# Load dataset to a data frame\n",
    "data_root = pd.read_csv(r'dataset_fashion.csv')"
   ]
  },
  {
   "cell_type": "code",
   "execution_count": 6,
   "metadata": {},
   "outputs": [
    {
     "data": {
      "text/html": [
       "<div>\n",
       "<style scoped>\n",
       "    .dataframe tbody tr th:only-of-type {\n",
       "        vertical-align: middle;\n",
       "    }\n",
       "\n",
       "    .dataframe tbody tr th {\n",
       "        vertical-align: top;\n",
       "    }\n",
       "\n",
       "    .dataframe thead th {\n",
       "        text-align: right;\n",
       "    }\n",
       "</style>\n",
       "<table border=\"1\" class=\"dataframe\">\n",
       "  <thead>\n",
       "    <tr style=\"text-align: right;\">\n",
       "      <th></th>\n",
       "      <th>No</th>\n",
       "      <th>ClothingID</th>\n",
       "      <th>Age</th>\n",
       "      <th>Title</th>\n",
       "      <th>ReviewText</th>\n",
       "      <th>Rating</th>\n",
       "      <th>RecommendedIND</th>\n",
       "      <th>PositiveFeedbackCount</th>\n",
       "      <th>DivisionName</th>\n",
       "      <th>DepartmentName</th>\n",
       "      <th>ClassName</th>\n",
       "    </tr>\n",
       "  </thead>\n",
       "  <tbody>\n",
       "    <tr>\n",
       "      <th>0</th>\n",
       "      <td>0</td>\n",
       "      <td>767</td>\n",
       "      <td>33</td>\n",
       "      <td>NaN</td>\n",
       "      <td>Absolutely wonderful - silky and sexy and comf...</td>\n",
       "      <td>4</td>\n",
       "      <td>1</td>\n",
       "      <td>0</td>\n",
       "      <td>Initmates</td>\n",
       "      <td>Intimate</td>\n",
       "      <td>Intimates</td>\n",
       "    </tr>\n",
       "    <tr>\n",
       "      <th>1</th>\n",
       "      <td>1</td>\n",
       "      <td>1080</td>\n",
       "      <td>34</td>\n",
       "      <td>NaN</td>\n",
       "      <td>Love this dress!  it's sooo pretty.  i happene...</td>\n",
       "      <td>5</td>\n",
       "      <td>1</td>\n",
       "      <td>4</td>\n",
       "      <td>General</td>\n",
       "      <td>Dresses</td>\n",
       "      <td>Dresses</td>\n",
       "    </tr>\n",
       "    <tr>\n",
       "      <th>2</th>\n",
       "      <td>2</td>\n",
       "      <td>1077</td>\n",
       "      <td>60</td>\n",
       "      <td>Some major design flaws</td>\n",
       "      <td>I had such high hopes for this dress and reall...</td>\n",
       "      <td>3</td>\n",
       "      <td>0</td>\n",
       "      <td>0</td>\n",
       "      <td>General</td>\n",
       "      <td>Dresses</td>\n",
       "      <td>Dresses</td>\n",
       "    </tr>\n",
       "    <tr>\n",
       "      <th>3</th>\n",
       "      <td>3</td>\n",
       "      <td>1049</td>\n",
       "      <td>50</td>\n",
       "      <td>My favorite buy!</td>\n",
       "      <td>I love, love, love this jumpsuit. it's fun, fl...</td>\n",
       "      <td>5</td>\n",
       "      <td>1</td>\n",
       "      <td>0</td>\n",
       "      <td>General Petite</td>\n",
       "      <td>Bottoms</td>\n",
       "      <td>Pants</td>\n",
       "    </tr>\n",
       "    <tr>\n",
       "      <th>4</th>\n",
       "      <td>4</td>\n",
       "      <td>847</td>\n",
       "      <td>47</td>\n",
       "      <td>Flattering shirt</td>\n",
       "      <td>This shirt is very flattering to all due to th...</td>\n",
       "      <td>5</td>\n",
       "      <td>1</td>\n",
       "      <td>6</td>\n",
       "      <td>General</td>\n",
       "      <td>Tops</td>\n",
       "      <td>Blouses</td>\n",
       "    </tr>\n",
       "  </tbody>\n",
       "</table>\n",
       "</div>"
      ],
      "text/plain": [
       "   No  ClothingID  Age                    Title  \\\n",
       "0   0         767   33                      NaN   \n",
       "1   1        1080   34                      NaN   \n",
       "2   2        1077   60  Some major design flaws   \n",
       "3   3        1049   50         My favorite buy!   \n",
       "4   4         847   47         Flattering shirt   \n",
       "\n",
       "                                          ReviewText  Rating  RecommendedIND  \\\n",
       "0  Absolutely wonderful - silky and sexy and comf...       4               1   \n",
       "1  Love this dress!  it's sooo pretty.  i happene...       5               1   \n",
       "2  I had such high hopes for this dress and reall...       3               0   \n",
       "3  I love, love, love this jumpsuit. it's fun, fl...       5               1   \n",
       "4  This shirt is very flattering to all due to th...       5               1   \n",
       "\n",
       "   PositiveFeedbackCount    DivisionName DepartmentName  ClassName  \n",
       "0                      0       Initmates       Intimate  Intimates  \n",
       "1                      4         General        Dresses    Dresses  \n",
       "2                      0         General        Dresses    Dresses  \n",
       "3                      0  General Petite        Bottoms      Pants  \n",
       "4                      6         General           Tops    Blouses  "
      ]
     },
     "execution_count": 6,
     "metadata": {},
     "output_type": "execute_result"
    }
   ],
   "source": [
    "data_root.head()"
   ]
  },
  {
   "cell_type": "code",
   "execution_count": 7,
   "metadata": {},
   "outputs": [
    {
     "data": {
      "text/plain": [
       "(23486, 11)"
      ]
     },
     "execution_count": 7,
     "metadata": {},
     "output_type": "execute_result"
    }
   ],
   "source": [
    "data_root.shape"
   ]
  },
  {
   "cell_type": "code",
   "execution_count": 8,
   "metadata": {},
   "outputs": [],
   "source": [
    "data = data_root.dropna()"
   ]
  },
  {
   "cell_type": "code",
   "execution_count": 9,
   "metadata": {},
   "outputs": [
    {
     "data": {
      "text/plain": [
       "(19662, 11)"
      ]
     },
     "execution_count": 9,
     "metadata": {},
     "output_type": "execute_result"
    }
   ],
   "source": [
    "data.shape"
   ]
  },
  {
   "cell_type": "code",
   "execution_count": 10,
   "metadata": {},
   "outputs": [],
   "source": [
    "# Create a new data frame with relevant columns only\n",
    "df = data[['ClassName', 'Title', 'Rating', 'ReviewText']].copy()"
   ]
  },
  {
   "cell_type": "code",
   "execution_count": 11,
   "metadata": {},
   "outputs": [
    {
     "data": {
      "text/html": [
       "<div>\n",
       "<style scoped>\n",
       "    .dataframe tbody tr th:only-of-type {\n",
       "        vertical-align: middle;\n",
       "    }\n",
       "\n",
       "    .dataframe tbody tr th {\n",
       "        vertical-align: top;\n",
       "    }\n",
       "\n",
       "    .dataframe thead th {\n",
       "        text-align: right;\n",
       "    }\n",
       "</style>\n",
       "<table border=\"1\" class=\"dataframe\">\n",
       "  <thead>\n",
       "    <tr style=\"text-align: right;\">\n",
       "      <th></th>\n",
       "      <th>ClassName</th>\n",
       "      <th>Title</th>\n",
       "      <th>Rating</th>\n",
       "      <th>ReviewText</th>\n",
       "    </tr>\n",
       "  </thead>\n",
       "  <tbody>\n",
       "    <tr>\n",
       "      <th>2</th>\n",
       "      <td>Dresses</td>\n",
       "      <td>Some major design flaws</td>\n",
       "      <td>3</td>\n",
       "      <td>I had such high hopes for this dress and reall...</td>\n",
       "    </tr>\n",
       "    <tr>\n",
       "      <th>3</th>\n",
       "      <td>Pants</td>\n",
       "      <td>My favorite buy!</td>\n",
       "      <td>5</td>\n",
       "      <td>I love, love, love this jumpsuit. it's fun, fl...</td>\n",
       "    </tr>\n",
       "    <tr>\n",
       "      <th>4</th>\n",
       "      <td>Blouses</td>\n",
       "      <td>Flattering shirt</td>\n",
       "      <td>5</td>\n",
       "      <td>This shirt is very flattering to all due to th...</td>\n",
       "    </tr>\n",
       "    <tr>\n",
       "      <th>5</th>\n",
       "      <td>Dresses</td>\n",
       "      <td>Not for the very petite</td>\n",
       "      <td>2</td>\n",
       "      <td>I love tracy reese dresses, but this one is no...</td>\n",
       "    </tr>\n",
       "    <tr>\n",
       "      <th>6</th>\n",
       "      <td>Knits</td>\n",
       "      <td>Cagrcoal shimmer fun</td>\n",
       "      <td>5</td>\n",
       "      <td>I aded this in my basket at hte last mintue to...</td>\n",
       "    </tr>\n",
       "    <tr>\n",
       "      <th>...</th>\n",
       "      <td>...</td>\n",
       "      <td>...</td>\n",
       "      <td>...</td>\n",
       "      <td>...</td>\n",
       "    </tr>\n",
       "    <tr>\n",
       "      <th>23481</th>\n",
       "      <td>Dresses</td>\n",
       "      <td>Great dress for many occasions</td>\n",
       "      <td>5</td>\n",
       "      <td>I was very happy to snag this dress at such a ...</td>\n",
       "    </tr>\n",
       "    <tr>\n",
       "      <th>23482</th>\n",
       "      <td>Knits</td>\n",
       "      <td>Wish it was made of cotton</td>\n",
       "      <td>3</td>\n",
       "      <td>It reminds me of maternity clothes. soft, stre...</td>\n",
       "    </tr>\n",
       "    <tr>\n",
       "      <th>23483</th>\n",
       "      <td>Dresses</td>\n",
       "      <td>Cute, but see through</td>\n",
       "      <td>3</td>\n",
       "      <td>This fit well, but the top was very see throug...</td>\n",
       "    </tr>\n",
       "    <tr>\n",
       "      <th>23484</th>\n",
       "      <td>Dresses</td>\n",
       "      <td>Very cute dress, perfect for summer parties an...</td>\n",
       "      <td>3</td>\n",
       "      <td>I bought this dress for a wedding i have this ...</td>\n",
       "    </tr>\n",
       "    <tr>\n",
       "      <th>23485</th>\n",
       "      <td>Dresses</td>\n",
       "      <td>Please make more like this one!</td>\n",
       "      <td>5</td>\n",
       "      <td>This dress in a lovely platinum is feminine an...</td>\n",
       "    </tr>\n",
       "  </tbody>\n",
       "</table>\n",
       "<p>19662 rows × 4 columns</p>\n",
       "</div>"
      ],
      "text/plain": [
       "      ClassName                                              Title  Rating  \\\n",
       "2       Dresses                            Some major design flaws       3   \n",
       "3         Pants                                   My favorite buy!       5   \n",
       "4       Blouses                                   Flattering shirt       5   \n",
       "5       Dresses                            Not for the very petite       2   \n",
       "6         Knits                               Cagrcoal shimmer fun       5   \n",
       "...         ...                                                ...     ...   \n",
       "23481   Dresses                     Great dress for many occasions       5   \n",
       "23482     Knits                         Wish it was made of cotton       3   \n",
       "23483   Dresses                              Cute, but see through       3   \n",
       "23484   Dresses  Very cute dress, perfect for summer parties an...       3   \n",
       "23485   Dresses                    Please make more like this one!       5   \n",
       "\n",
       "                                              ReviewText  \n",
       "2      I had such high hopes for this dress and reall...  \n",
       "3      I love, love, love this jumpsuit. it's fun, fl...  \n",
       "4      This shirt is very flattering to all due to th...  \n",
       "5      I love tracy reese dresses, but this one is no...  \n",
       "6      I aded this in my basket at hte last mintue to...  \n",
       "...                                                  ...  \n",
       "23481  I was very happy to snag this dress at such a ...  \n",
       "23482  It reminds me of maternity clothes. soft, stre...  \n",
       "23483  This fit well, but the top was very see throug...  \n",
       "23484  I bought this dress for a wedding i have this ...  \n",
       "23485  This dress in a lovely platinum is feminine an...  \n",
       "\n",
       "[19662 rows x 4 columns]"
      ]
     },
     "execution_count": 11,
     "metadata": {},
     "output_type": "execute_result"
    }
   ],
   "source": [
    "df"
   ]
  },
  {
   "cell_type": "code",
   "execution_count": 12,
   "metadata": {},
   "outputs": [],
   "source": [
    "#\n",
    "category_all_items = [df.loc[i]['ClassName'].split('|') for i in df.index]"
   ]
  },
  {
   "cell_type": "code",
   "execution_count": 13,
   "metadata": {},
   "outputs": [],
   "source": [
    "# Find the list of genres of all movies in alphabetical order\n",
    "category = sorted(list(set([item for sublist in category_all_items for item in sublist])))"
   ]
  },
  {
   "cell_type": "code",
   "execution_count": 14,
   "metadata": {},
   "outputs": [
    {
     "data": {
      "text/plain": [
       "['Blouses',\n",
       " 'Casual bottoms',\n",
       " 'Chemises',\n",
       " 'Dresses',\n",
       " 'Fine gauge',\n",
       " 'Intimates',\n",
       " 'Jackets',\n",
       " 'Jeans',\n",
       " 'Knits',\n",
       " 'Layering',\n",
       " 'Legwear',\n",
       " 'Lounge',\n",
       " 'Outerwear',\n",
       " 'Pants',\n",
       " 'Shorts',\n",
       " 'Skirts',\n",
       " 'Sleep',\n",
       " 'Sweaters',\n",
       " 'Swim',\n",
       " 'Trend']"
      ]
     },
     "execution_count": 14,
     "metadata": {},
     "output_type": "execute_result"
    }
   ],
   "source": [
    "category"
   ]
  },
  {
   "cell_type": "code",
   "execution_count": 15,
   "metadata": {},
   "outputs": [],
   "source": [
    "# Initialize lists for movie data as well as titles\n",
    "full_data = list()\n",
    "product_titles = list()"
   ]
  },
  {
   "cell_type": "code",
   "execution_count": 16,
   "metadata": {},
   "outputs": [],
   "source": [
    "for i in df.index:\n",
    "    # Append movie title and the index of the movie\n",
    "    product_titles.append((df.loc[i]['Title'].strip(), i, df.loc[i]['ReviewText'].strip()))\n",
    "    # Add list of genres of the movies (1/0) to movie data\n",
    "    product_data = [1 if ClassName in df.loc[i]['ClassName'].split('|') else 0 for ClassName in category]\n",
    "    # Add IMDb score of the movie to the movie data\n",
    "    product_data.append(df.loc[i]['Rating'])\n",
    "    # Add record of movie to main data list\n",
    "    full_data.append(product_data)"
   ]
  },
  {
   "cell_type": "code",
   "execution_count": 17,
   "metadata": {},
   "outputs": [],
   "source": [
    "# Create JSON files for data and movie titles for faster load to the Recommmender\n",
    "titles_dump = r'titles2.json'\n",
    "with open(titles_dump, 'w+', encoding='utf-8') as f:\n",
    "    json.dump(product_titles, f)"
   ]
  },
  {
   "cell_type": "code",
   "execution_count": null,
   "metadata": {},
   "outputs": [],
   "source": []
  }
 ],
 "metadata": {
  "kernelspec": {
   "display_name": "Python 3",
   "language": "python",
   "name": "python3"
  },
  "language_info": {
   "codemirror_mode": {
    "name": "ipython",
    "version": 3
   },
   "file_extension": ".py",
   "mimetype": "text/x-python",
   "name": "python",
   "nbconvert_exporter": "python",
   "pygments_lexer": "ipython3",
   "version": "3.7.8"
  },
  "vscode": {
   "interpreter": {
    "hash": "5109d816b82be14675a6b11f8e0f0d2e80f029176ed3710d54e125caa8520dfd"
   }
  }
 },
 "nbformat": 4,
 "nbformat_minor": 4
}
