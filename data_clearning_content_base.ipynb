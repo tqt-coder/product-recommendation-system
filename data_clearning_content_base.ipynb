{
 "cells": [
  {
   "cell_type": "code",
   "execution_count": 1,
   "metadata": {},
   "outputs": [],
   "source": [
    "import pandas as pd\n",
    "from sklearn.feature_extraction.text import TfidfVectorizer\n",
    "from sklearn.metrics.pairwise import cosine_similarity\n",
    "from wordcloud import WordCloud\n",
    "from wordcloud import STOPWORDS\n",
    "import matplotlib.pyplot as plt \n"
   ]
  },
  {
   "cell_type": "code",
   "execution_count": 2,
   "metadata": {},
   "outputs": [],
   "source": [
    "data_root = pd.read_csv(r'website_dataset.csv')"
   ]
  },
  {
   "cell_type": "code",
   "execution_count": 14,
   "metadata": {},
   "outputs": [
    {
     "name": "stdout",
     "output_type": "stream",
     "text": [
      "<class 'pandas.core.frame.DataFrame'>\n",
      "RangeIndex: 9168 entries, 0 to 9167\n",
      "Data columns (total 21 columns):\n",
      " #   Column                  Non-Null Count  Dtype  \n",
      "---  ------                  --------------  -----  \n",
      " 0   id                      9168 non-null   int64  \n",
      " 1   brand                   9168 non-null   object \n",
      " 2   category                9168 non-null   object \n",
      " 3   name                    9168 non-null   object \n",
      " 4   size                    9168 non-null   object \n",
      " 5   rating                  9168 non-null   float64\n",
      " 6   number_of_reviews       9168 non-null   int64  \n",
      " 7   love                    9168 non-null   int64  \n",
      " 8   price                   9168 non-null   float64\n",
      " 9   value_price             9168 non-null   float64\n",
      " 10  URL                     9168 non-null   object \n",
      " 11  MarketingFlags          9168 non-null   bool   \n",
      " 12  MarketingFlags_content  9168 non-null   object \n",
      " 13  options                 9168 non-null   object \n",
      " 14  details                 9168 non-null   object \n",
      " 15  how_to_use              9168 non-null   object \n",
      " 16  ingredients             9168 non-null   object \n",
      " 17  online_only             9168 non-null   int64  \n",
      " 18  exclusive               9168 non-null   int64  \n",
      " 19  limited_edition         9168 non-null   int64  \n",
      " 20  limited_time_offer      9168 non-null   int64  \n",
      "dtypes: bool(1), float64(3), int64(7), object(10)\n",
      "memory usage: 1.4+ MB\n"
     ]
    }
   ],
   "source": [
    "data_root.info()"
   ]
  },
  {
   "cell_type": "code",
   "execution_count": 3,
   "metadata": {},
   "outputs": [],
   "source": [
    "data = data_root.dropna()"
   ]
  },
  {
   "cell_type": "code",
   "execution_count": 13,
   "metadata": {},
   "outputs": [
    {
     "data": {
      "text/plain": [
       "(9168, 21)"
      ]
     },
     "execution_count": 13,
     "metadata": {},
     "output_type": "execute_result"
    }
   ],
   "source": [
    "data.shape"
   ]
  },
  {
   "cell_type": "code",
   "execution_count": 4,
   "metadata": {},
   "outputs": [],
   "source": [
    "data.head()\n",
    "data.to_csv(\"data.csv\")"
   ]
  },
  {
   "cell_type": "code",
   "execution_count": 5,
   "metadata": {},
   "outputs": [
    {
     "data": {
      "text/plain": [
       "(9168, 743673)"
      ]
     },
     "execution_count": 5,
     "metadata": {},
     "output_type": "execute_result"
    }
   ],
   "source": [
    "tfidf = TfidfVectorizer(analyzer='word',\n",
    "                      token_pattern=r'\\w{1,}',\n",
    "                      ngram_range=(1, 3), \n",
    "                      stop_words = 'english')\n",
    "\n",
    "# Filling NaNs with empty string\n",
    "data['details'] = data['details'].fillna('')\n",
    "\n",
    "# Fitting the TF-IDF on the 'overview' text\n",
    "tfidf_matrix = tfidf.fit_transform(data['details'])\n",
    "\n",
    "tfidf_matrix.shape\n"
   ]
  },
  {
   "cell_type": "code",
   "execution_count": 6,
   "metadata": {},
   "outputs": [
    {
     "name": "stdout",
     "output_type": "stream",
     "text": [
      "  (0, 482260)\t0.04667115448828231\n",
      "  (0, 183504)\t0.04667115448828231\n",
      "  (0, 34518)\t0.04667115448828231\n",
      "  (0, 183457)\t0.04667115448828231\n",
      "  (0, 98611)\t0.04667115448828231\n",
      "  (0, 183465)\t0.04667115448828231\n",
      "  (0, 101319)\t0.04667115448828231\n",
      "  (0, 183467)\t0.04667115448828231\n",
      "  (0, 164159)\t0.04667115448828231\n",
      "  (0, 684187)\t0.04667115448828231\n",
      "  (0, 202142)\t0.04667115448828231\n",
      "  (0, 433174)\t0.03379046390556302\n",
      "  (0, 10015)\t0.034803989827272216\n",
      "  (0, 478630)\t0.029146974915898127\n",
      "  (0, 4022)\t0.03437337121359434\n",
      "  (0, 150)\t0.03294963492179967\n",
      "  (0, 143165)\t0.04466451088845632\n",
      "  (0, 593221)\t0.022896092491402082\n",
      "  (0, 584445)\t0.04667115448828231\n",
      "  (0, 578189)\t0.04667115448828231\n",
      "  (0, 208843)\t0.04466451088845632\n",
      "  (0, 174663)\t0.04466451088845632\n",
      "  (0, 219095)\t0.04466451088845632\n",
      "  (0, 383816)\t0.04667115448828231\n",
      "  (0, 183500)\t0.04667115448828231\n",
      "  :\t:\n",
      "  (9167, 9426)\t0.06014230189365319\n",
      "  (9167, 196873)\t0.024742589828352427\n",
      "  (9167, 50667)\t0.022926549566223052\n",
      "  (9167, 591155)\t0.1367641605777943\n",
      "  (9167, 53829)\t0.021607562360947283\n",
      "  (9167, 667493)\t0.018906643813349278\n",
      "  (9167, 402681)\t0.03324985763717617\n",
      "  (9167, 450446)\t0.006618713184145835\n",
      "  (9167, 359068)\t0.006387313823045978\n",
      "  (9167, 450261)\t0.006591256643259535\n",
      "  (9167, 316824)\t0.032674992232140626\n",
      "  (9167, 283106)\t0.031596676670273854\n",
      "  (9167, 10256)\t0.02849882405482936\n",
      "  (9167, 815)\t0.016025792403751894\n",
      "  (9167, 283101)\t0.22597606413331955\n",
      "  (9167, 1433)\t0.02086408415179819\n",
      "  (9167, 520933)\t0.008749594439714348\n",
      "  (9167, 68534)\t0.019545666445417526\n",
      "  (9167, 60885)\t0.015479230391875673\n",
      "  (9167, 335497)\t0.013813146545716882\n",
      "  (9167, 680914)\t0.018151512049154498\n",
      "  (9167, 570367)\t0.027411682144753553\n",
      "  (9167, 383817)\t0.015111380520983627\n",
      "  (9167, 334944)\t0.022367512562805485\n",
      "  (9167, 82491)\t0.028154509909823357\n"
     ]
    }
   ],
   "source": [
    "print(tfidf_matrix)"
   ]
  },
  {
   "cell_type": "code",
   "execution_count": 7,
   "metadata": {},
   "outputs": [],
   "source": [
    "# Compute the Cosine Similarity\n",
    "similarity_matrix = cosine_similarity(tfidf_matrix, tfidf_matrix)\n",
    "\n",
    "# Create a pandas series with item titles as indices and indices as series values \n",
    "indices = pd.Series(data.index, index=data['name']).drop_duplicates()\n"
   ]
  },
  {
   "cell_type": "code",
   "execution_count": 8,
   "metadata": {},
   "outputs": [
    {
     "name": "stdout",
     "output_type": "stream",
     "text": [
      "name\n",
      "Blu Mediterraneo MINIATURE Set                   0\n",
      "Colonia                                          1\n",
      "Arancia di Capri                                 2\n",
      "Mirto di Panarea                                 3\n",
      "Colonia Miniature Set                            4\n",
      "                                              ... \n",
      "The Rose Gold Mask                            9163\n",
      "Give Me Some Sugar Colorful Gloss Balm Set    9164\n",
      "Weekend Warrior Tone Up Cream                 9165\n",
      "Gift Card                                     9166\n",
      "Happy Birthday Gift Card                      9167\n",
      "Length: 9168, dtype: int64\n"
     ]
    }
   ],
   "source": [
    "print(indices)"
   ]
  },
  {
   "cell_type": "code",
   "execution_count": 9,
   "metadata": {},
   "outputs": [
    {
     "name": "stdout",
     "output_type": "stream",
     "text": [
      "9       Rosa Nobile Hair Mist ----0000--- https://www....\n",
      "32      Rosa Nobile Gift Set ----0000--- https://www.s...\n",
      "4014    Red Roses Body Crème ----0000--- https://www.s...\n",
      "37      Rose De Grasse ----0000--- https://www.sephora...\n",
      "3974    Red Roses Scent Surround™ Diffuser ----0000---...\n",
      "28      Peonia Nobile Gift Set ----0000--- https://www...\n",
      "12      Peonia Nobile ----0000--- https://www.sephora....\n",
      "4007    Red Roses Travel Candle ----0000--- https://ww...\n",
      "1346    Gabrielle Chanel Shower Gel ----0000--- https:...\n",
      "dtype: object\n"
     ]
    }
   ],
   "source": [
    "\n",
    "title='Rosa Nobile'\n",
    "\n",
    "# Get the index corresponding to movie title\n",
    "index = indices[title]\n",
    "\n",
    "# Get the cosine similarity scores \n",
    "similarity_scores = list(enumerate(similarity_matrix[index]))\n",
    "\n",
    "\n",
    "# Sort the similarity scores in descending order\n",
    "sorted_similarity_scores = sorted(similarity_scores, key=lambda x: x[1], reverse=True)\n",
    "\n",
    "\n",
    "# Top-10 most similar movie scores\n",
    "top_10_movies_scores = sorted_similarity_scores[1:10]\n",
    "\n",
    "# Get movie indices\n",
    "top_10_movie_indices=[]\n",
    "for i in top_10_movies_scores:\n",
    "    top_10_movie_indices.append(str(i[0]))\n",
    "    \n",
    "# Top 10 recommende movie\n",
    "print(data['name'].iloc[top_10_movie_indices] + \" ----0000--- \" + data['URL'].iloc[top_10_movie_indices])"
   ]
  },
  {
   "cell_type": "code",
   "execution_count": 10,
   "metadata": {},
   "outputs": [
    {
     "name": "stdout",
     "output_type": "stream",
     "text": [
      "           id               brand            category  \\\n",
      "0     2218774      Acqua Di Parma           Fragrance   \n",
      "1     2044816      Acqua Di Parma             Cologne   \n",
      "2     1417567      Acqua Di Parma             Perfume   \n",
      "3     1417617      Acqua Di Parma             Perfume   \n",
      "4     2218766      Acqua Di Parma           Fragrance   \n",
      "...       ...                 ...                 ...   \n",
      "9163  2208502  SEPHORA COLLECTION          Face Masks   \n",
      "9164  2298909  SEPHORA COLLECTION            Lip Sets   \n",
      "9165  2236750  SEPHORA COLLECTION  Tinted Moisturizer   \n",
      "9166       50  SEPHORA COLLECTION         no category   \n",
      "9167      304  SEPHORA COLLECTION         no category   \n",
      "\n",
      "                                            name              size  rating  \\\n",
      "0                 Blu Mediterraneo MINIATURE Set    5 x 0.16oz/5mL     4.0   \n",
      "1                                        Colonia     0.7 oz/ 20 mL     4.5   \n",
      "2                               Arancia di Capri      5 oz/ 148 mL     4.5   \n",
      "3                               Mirto di Panarea     2.5 oz/ 74 mL     4.5   \n",
      "4                          Colonia Miniature Set    5 x 0.16oz/5mL     3.5   \n",
      "...                                          ...               ...     ...   \n",
      "9163                          The Rose Gold Mask           no size     2.0   \n",
      "9164  Give Me Some Sugar Colorful Gloss Balm Set  3 x 0.32 oz/ 9 g     0.0   \n",
      "9165               Weekend Warrior Tone Up Cream   0.946 oz/ 28 mL     0.0   \n",
      "9166                                   Gift Card           no size     5.0   \n",
      "9167                    Happy Birthday Gift Card           no size     0.0   \n",
      "\n",
      "      number_of_reviews  love  price  value_price  ... MarketingFlags  \\\n",
      "0                     4  3002   66.0         75.0  ...           True   \n",
      "1                    76  2700   66.0         66.0  ...           True   \n",
      "2                    26  2600  180.0        180.0  ...           True   \n",
      "3                    23  2900  120.0        120.0  ...           True   \n",
      "4                     2   943   72.0         80.0  ...           True   \n",
      "...                 ...   ...    ...          ...  ...            ...   \n",
      "9163                 15  6200    6.0          6.0  ...           True   \n",
      "9164                  0   266   15.0         27.0  ...           True   \n",
      "9165                  0   445   16.0         16.0  ...           True   \n",
      "9166                 46     0   50.0         50.0  ...          False   \n",
      "9167                  0     0   50.0         50.0  ...          False   \n",
      "\n",
      "           MarketingFlags_content  \\\n",
      "0                     online only   \n",
      "1                     online only   \n",
      "2                     online only   \n",
      "3                     online only   \n",
      "4                     online only   \n",
      "...                           ...   \n",
      "9163  limited edition · exclusive   \n",
      "9164                    exclusive   \n",
      "9165                    exclusive   \n",
      "9166                            0   \n",
      "9167                            0   \n",
      "\n",
      "                                                options  \\\n",
      "0                                            no options   \n",
      "1      - 0.7 oz/ 20 mL  Spray  - 1.7 oz/ 50 mL Eau d...   \n",
      "2      - 1oz/30mL Eau de Toilette  - 2.5 oz/ 74 mL E...   \n",
      "3      - 1 oz/ 30 mL Eau de Toilette Spray - 2.5 oz/...   \n",
      "4                                            no options   \n",
      "...                                                 ...   \n",
      "9163                                         no options   \n",
      "9164                                         no options   \n",
      "9165                                         no options   \n",
      "9166                                         no options   \n",
      "9167                                         no options   \n",
      "\n",
      "                                                details  \\\n",
      "0     This enchanting set comes in a specially handc...   \n",
      "1     An elegant timeless scent filled with a fresh-...   \n",
      "2     Fragrance Family: Fresh Scent Type: Fresh Citr...   \n",
      "3     Panarea near Sicily is an an island suspended ...   \n",
      "4     The Colonia Miniature Set comes in an iconic A...   \n",
      "...                                                 ...   \n",
      "9163  What it is: A limited-edition- nurturing and h...   \n",
      "9164  What it is: A set of three bestselling Colorfu...   \n",
      "9165  What it is: A weightless complexion booster- i...   \n",
      "9166  What it is:- Available in denominations of $10...   \n",
      "9167  What it is:\\r\\n- Available in denominations of...   \n",
      "\n",
      "                                             how_to_use  \\\n",
      "0     Suggested Usage:-Fragrance is intensified by t...   \n",
      "1                                       no instructions   \n",
      "2                                       no instructions   \n",
      "3                                       no instructions   \n",
      "4     Suggested Usage:-Fragrance is intensified by t...   \n",
      "...                                                 ...   \n",
      "9163  Suggested Usage:-Unfold the mask.-Apply the ma...   \n",
      "9164  Suggested Usage:-Apply directly to lips using ...   \n",
      "9165  Suggested Usage:-Use this product as the last ...   \n",
      "9166                                    no instructions   \n",
      "9167                                    no instructions   \n",
      "\n",
      "                                            ingredients online_only  \\\n",
      "0     Arancia di Capri Eau de Toilette: Alcohol Dena...           1   \n",
      "1                                               unknown           1   \n",
      "2     Alcohol Denat.- Water- Fragrance- Limonene- Li...           1   \n",
      "3                                               unknown           1   \n",
      "4     Colonia: Alcohol Denat.- Water- Fragrance- Lim...           1   \n",
      "...                                                 ...         ...   \n",
      "9163  -Rose Quartz Extract: Hydrates dry skin.  Aqua...           0   \n",
      "9164  Colorful Gloss Balm Wanderlust: Hydrogenated P...           0   \n",
      "9165  Aqua (Water)- Dimethicone- Isohexadecane- Poly...           0   \n",
      "9166                                            unknown           0   \n",
      "9167                                            unknown           0   \n",
      "\n",
      "      exclusive  limited_edition  limited_time_offer  \n",
      "0             0                0                   0  \n",
      "1             0                0                   0  \n",
      "2             0                0                   0  \n",
      "3             0                0                   0  \n",
      "4             0                0                   0  \n",
      "...         ...              ...                 ...  \n",
      "9163          1                1                   0  \n",
      "9164          1                0                   0  \n",
      "9165          1                0                   0  \n",
      "9166          0                0                   0  \n",
      "9167          0                0                   0  \n",
      "\n",
      "[9168 rows x 21 columns]\n"
     ]
    }
   ],
   "source": [
    "print(data)"
   ]
  },
  {
   "cell_type": "code",
   "execution_count": null,
   "metadata": {},
   "outputs": [],
   "source": []
  }
 ],
 "metadata": {
  "kernelspec": {
   "display_name": "Python 3",
   "language": "python",
   "name": "python3"
  },
  "language_info": {
   "codemirror_mode": {
    "name": "ipython",
    "version": 3
   },
   "file_extension": ".py",
   "mimetype": "text/x-python",
   "name": "python",
   "nbconvert_exporter": "python",
   "pygments_lexer": "ipython3",
   "version": "3.7.8 (tags/v3.7.8:4b47a5b6ba, Jun 28 2020, 08:53:46) [MSC v.1916 64 bit (AMD64)]"
  },
  "orig_nbformat": 4,
  "vscode": {
   "interpreter": {
    "hash": "5109d816b82be14675a6b11f8e0f0d2e80f029176ed3710d54e125caa8520dfd"
   }
  }
 },
 "nbformat": 4,
 "nbformat_minor": 2
}
